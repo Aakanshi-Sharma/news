{
 "cells": [
  {
   "cell_type": "code",
   "execution_count": 1,
   "id": "925ac8fb",
   "metadata": {},
   "outputs": [],
   "source": [
    "import numpy as np\n",
    "import pandas as pd\n",
    "from nltk.corpus import stopwords"
   ]
  },
  {
   "cell_type": "code",
   "execution_count": 2,
   "id": "05828b06",
   "metadata": {},
   "outputs": [],
   "source": [
    "import nltk\n",
    "stopWords=stopwords.words(\"english\")"
   ]
  },
  {
   "cell_type": "code",
   "execution_count": 3,
   "id": "d7e373d9",
   "metadata": {},
   "outputs": [],
   "source": [
    "df=pd.read_csv(\"news.csv\")"
   ]
  },
  {
   "cell_type": "code",
   "execution_count": 4,
   "id": "f4daba79",
   "metadata": {},
   "outputs": [
    {
     "data": {
      "text/html": [
       "<div>\n",
       "<style scoped>\n",
       "    .dataframe tbody tr th:only-of-type {\n",
       "        vertical-align: middle;\n",
       "    }\n",
       "\n",
       "    .dataframe tbody tr th {\n",
       "        vertical-align: top;\n",
       "    }\n",
       "\n",
       "    .dataframe thead th {\n",
       "        text-align: right;\n",
       "    }\n",
       "</style>\n",
       "<table border=\"1\" class=\"dataframe\">\n",
       "  <thead>\n",
       "    <tr style=\"text-align: right;\">\n",
       "      <th></th>\n",
       "      <th>title</th>\n",
       "      <th>content</th>\n",
       "      <th>published_at</th>\n",
       "      <th>source</th>\n",
       "      <th>topic</th>\n",
       "    </tr>\n",
       "  </thead>\n",
       "  <tbody>\n",
       "    <tr>\n",
       "      <th>0</th>\n",
       "      <td>BTS: RM is reminded of Bon Voyage as he travel...</td>\n",
       "      <td>After reaching his hotel in the city, RM revea...</td>\n",
       "      <td>2022-07-30T07:00:00Z</td>\n",
       "      <td>2</td>\n",
       "      <td>13</td>\n",
       "    </tr>\n",
       "    <tr>\n",
       "      <th>1</th>\n",
       "      <td>RM recalls wondering if he 'made right decisio...</td>\n",
       "      <td>RM aka Kim Namjoon was the first member to joi...</td>\n",
       "      <td>2022-12-22T15:57:55Z</td>\n",
       "      <td>2</td>\n",
       "      <td>13</td>\n",
       "    </tr>\n",
       "    <tr>\n",
       "      <th>2</th>\n",
       "      <td>BTS: J-Hope and RM go bonkers at Billie Eilish...</td>\n",
       "      <td>Billie Eilish's concert was held in Seoul, Sou...</td>\n",
       "      <td>2022-08-16T07:00:00Z</td>\n",
       "      <td>1</td>\n",
       "      <td>7</td>\n",
       "    </tr>\n",
       "    <tr>\n",
       "      <th>3</th>\n",
       "      <td>BTS: J-Hope proudly states he raised Jungkook,...</td>\n",
       "      <td>BTS ARMY y'all would be missing the members a ...</td>\n",
       "      <td>2022-12-18T13:08:40Z</td>\n",
       "      <td>1</td>\n",
       "      <td>7</td>\n",
       "    </tr>\n",
       "    <tr>\n",
       "      <th>4</th>\n",
       "      <td>BTS: Jin aka Kim Seokjin takes us through the ...</td>\n",
       "      <td>BTS member Kim Seokjin aka Jin has the capacit...</td>\n",
       "      <td>2022-11-21T08:00:00Z</td>\n",
       "      <td>1</td>\n",
       "      <td>8</td>\n",
       "    </tr>\n",
       "    <tr>\n",
       "      <th>...</th>\n",
       "      <td>...</td>\n",
       "      <td>...</td>\n",
       "      <td>...</td>\n",
       "      <td>...</td>\n",
       "      <td>...</td>\n",
       "    </tr>\n",
       "    <tr>\n",
       "      <th>805</th>\n",
       "      <td>BTS’ SUGA’s Suchwita Ep 2 Teaser OUT: Top 3 so...</td>\n",
       "      <td>BTS has conquered the world with their group r...</td>\n",
       "      <td>2022-12-30T08:00:00Z</td>\n",
       "      <td>3</td>\n",
       "      <td>11</td>\n",
       "    </tr>\n",
       "    <tr>\n",
       "      <th>806</th>\n",
       "      <td>BTS ARMY celebrate 700 days of Jin's special s...</td>\n",
       "      <td>Today marks 700 days since BTS' worldwide hand...</td>\n",
       "      <td>2022-01-20T08:00:00Z</td>\n",
       "      <td>3</td>\n",
       "      <td>8</td>\n",
       "    </tr>\n",
       "    <tr>\n",
       "      <th>807</th>\n",
       "      <td>BTS: 'I am not a baby,' says Jungkook as an AR...</td>\n",
       "      <td>BTS' youngest member Jungkook came online on W...</td>\n",
       "      <td>2022-09-02T07:00:00Z</td>\n",
       "      <td>1</td>\n",
       "      <td>10</td>\n",
       "    </tr>\n",
       "    <tr>\n",
       "      <th>808</th>\n",
       "      <td>BTS' Jin shares 1st pics after joining militar...</td>\n",
       "      <td>BTS' eldest member Jin has shared pictures and...</td>\n",
       "      <td>2023-01-18T08:36:56Z</td>\n",
       "      <td>2</td>\n",
       "      <td>1</td>\n",
       "    </tr>\n",
       "    <tr>\n",
       "      <th>809</th>\n",
       "      <td>Bad Decisions: BTS’ Jin, Jimin, V &amp; Jungkook j...</td>\n",
       "      <td>After a lot of teasing, Benny Blanco’s collabo...</td>\n",
       "      <td>2022-08-05T07:00:00Z</td>\n",
       "      <td>3</td>\n",
       "      <td>8</td>\n",
       "    </tr>\n",
       "  </tbody>\n",
       "</table>\n",
       "<p>810 rows × 5 columns</p>\n",
       "</div>"
      ],
      "text/plain": [
       "                                                 title  \\\n",
       "0    BTS: RM is reminded of Bon Voyage as he travel...   \n",
       "1    RM recalls wondering if he 'made right decisio...   \n",
       "2    BTS: J-Hope and RM go bonkers at Billie Eilish...   \n",
       "3    BTS: J-Hope proudly states he raised Jungkook,...   \n",
       "4    BTS: Jin aka Kim Seokjin takes us through the ...   \n",
       "..                                                 ...   \n",
       "805  BTS’ SUGA’s Suchwita Ep 2 Teaser OUT: Top 3 so...   \n",
       "806  BTS ARMY celebrate 700 days of Jin's special s...   \n",
       "807  BTS: 'I am not a baby,' says Jungkook as an AR...   \n",
       "808  BTS' Jin shares 1st pics after joining militar...   \n",
       "809  Bad Decisions: BTS’ Jin, Jimin, V & Jungkook j...   \n",
       "\n",
       "                                               content          published_at  \\\n",
       "0    After reaching his hotel in the city, RM revea...  2022-07-30T07:00:00Z   \n",
       "1    RM aka Kim Namjoon was the first member to joi...  2022-12-22T15:57:55Z   \n",
       "2    Billie Eilish's concert was held in Seoul, Sou...  2022-08-16T07:00:00Z   \n",
       "3    BTS ARMY y'all would be missing the members a ...  2022-12-18T13:08:40Z   \n",
       "4    BTS member Kim Seokjin aka Jin has the capacit...  2022-11-21T08:00:00Z   \n",
       "..                                                 ...                   ...   \n",
       "805  BTS has conquered the world with their group r...  2022-12-30T08:00:00Z   \n",
       "806  Today marks 700 days since BTS' worldwide hand...  2022-01-20T08:00:00Z   \n",
       "807  BTS' youngest member Jungkook came online on W...  2022-09-02T07:00:00Z   \n",
       "808  BTS' eldest member Jin has shared pictures and...  2023-01-18T08:36:56Z   \n",
       "809  After a lot of teasing, Benny Blanco’s collabo...  2022-08-05T07:00:00Z   \n",
       "\n",
       "     source  topic  \n",
       "0         2     13  \n",
       "1         2     13  \n",
       "2         1      7  \n",
       "3         1      7  \n",
       "4         1      8  \n",
       "..      ...    ...  \n",
       "805       3     11  \n",
       "806       3      8  \n",
       "807       1     10  \n",
       "808       2      1  \n",
       "809       3      8  \n",
       "\n",
       "[810 rows x 5 columns]"
      ]
     },
     "execution_count": 4,
     "metadata": {},
     "output_type": "execute_result"
    }
   ],
   "source": [
    "df"
   ]
  },
  {
   "cell_type": "code",
   "execution_count": 5,
   "id": "8ab63af3",
   "metadata": {},
   "outputs": [
    {
     "data": {
      "text/plain": [
       "title           0\n",
       "content         4\n",
       "published_at    0\n",
       "source          0\n",
       "topic           0\n",
       "dtype: int64"
      ]
     },
     "execution_count": 5,
     "metadata": {},
     "output_type": "execute_result"
    }
   ],
   "source": [
    "df.isnull().sum()"
   ]
  },
  {
   "cell_type": "code",
   "execution_count": 6,
   "id": "ba775207",
   "metadata": {},
   "outputs": [],
   "source": [
    "df=df.fillna(\"\")"
   ]
  },
  {
   "cell_type": "code",
   "execution_count": 7,
   "id": "4dc3951a",
   "metadata": {},
   "outputs": [
    {
     "data": {
      "text/plain": [
       "title           0\n",
       "content         0\n",
       "published_at    0\n",
       "source          0\n",
       "topic           0\n",
       "dtype: int64"
      ]
     },
     "execution_count": 7,
     "metadata": {},
     "output_type": "execute_result"
    }
   ],
   "source": [
    "df.isnull().sum()"
   ]
  },
  {
   "cell_type": "code",
   "execution_count": 8,
   "id": "53dc90b5",
   "metadata": {},
   "outputs": [
    {
     "data": {
      "text/plain": [
       "0"
      ]
     },
     "execution_count": 8,
     "metadata": {},
     "output_type": "execute_result"
    }
   ],
   "source": [
    "df.duplicated().sum()"
   ]
  },
  {
   "cell_type": "code",
   "execution_count": 9,
   "id": "04d244d3",
   "metadata": {},
   "outputs": [],
   "source": [
    "df[\"content\"]=df[\"title\"]+df[\"content\"]"
   ]
  },
  {
   "cell_type": "code",
   "execution_count": 10,
   "id": "e656831f",
   "metadata": {},
   "outputs": [],
   "source": [
    "df=df.drop(columns=[\"title\", \"published_at\", \"source\", \"topic\"])"
   ]
  },
  {
   "cell_type": "code",
   "execution_count": 11,
   "id": "29ad8b82",
   "metadata": {},
   "outputs": [
    {
     "data": {
      "text/html": [
       "<div>\n",
       "<style scoped>\n",
       "    .dataframe tbody tr th:only-of-type {\n",
       "        vertical-align: middle;\n",
       "    }\n",
       "\n",
       "    .dataframe tbody tr th {\n",
       "        vertical-align: top;\n",
       "    }\n",
       "\n",
       "    .dataframe thead th {\n",
       "        text-align: right;\n",
       "    }\n",
       "</style>\n",
       "<table border=\"1\" class=\"dataframe\">\n",
       "  <thead>\n",
       "    <tr style=\"text-align: right;\">\n",
       "      <th></th>\n",
       "      <th>content</th>\n",
       "    </tr>\n",
       "  </thead>\n",
       "  <tbody>\n",
       "    <tr>\n",
       "      <th>0</th>\n",
       "      <td>BTS: RM is reminded of Bon Voyage as he travel...</td>\n",
       "    </tr>\n",
       "    <tr>\n",
       "      <th>1</th>\n",
       "      <td>RM recalls wondering if he 'made right decisio...</td>\n",
       "    </tr>\n",
       "    <tr>\n",
       "      <th>2</th>\n",
       "      <td>BTS: J-Hope and RM go bonkers at Billie Eilish...</td>\n",
       "    </tr>\n",
       "    <tr>\n",
       "      <th>3</th>\n",
       "      <td>BTS: J-Hope proudly states he raised Jungkook,...</td>\n",
       "    </tr>\n",
       "    <tr>\n",
       "      <th>4</th>\n",
       "      <td>BTS: Jin aka Kim Seokjin takes us through the ...</td>\n",
       "    </tr>\n",
       "    <tr>\n",
       "      <th>...</th>\n",
       "      <td>...</td>\n",
       "    </tr>\n",
       "    <tr>\n",
       "      <th>805</th>\n",
       "      <td>BTS’ SUGA’s Suchwita Ep 2 Teaser OUT: Top 3 so...</td>\n",
       "    </tr>\n",
       "    <tr>\n",
       "      <th>806</th>\n",
       "      <td>BTS ARMY celebrate 700 days of Jin's special s...</td>\n",
       "    </tr>\n",
       "    <tr>\n",
       "      <th>807</th>\n",
       "      <td>BTS: 'I am not a baby,' says Jungkook as an AR...</td>\n",
       "    </tr>\n",
       "    <tr>\n",
       "      <th>808</th>\n",
       "      <td>BTS' Jin shares 1st pics after joining militar...</td>\n",
       "    </tr>\n",
       "    <tr>\n",
       "      <th>809</th>\n",
       "      <td>Bad Decisions: BTS’ Jin, Jimin, V &amp; Jungkook j...</td>\n",
       "    </tr>\n",
       "  </tbody>\n",
       "</table>\n",
       "<p>810 rows × 1 columns</p>\n",
       "</div>"
      ],
      "text/plain": [
       "                                               content\n",
       "0    BTS: RM is reminded of Bon Voyage as he travel...\n",
       "1    RM recalls wondering if he 'made right decisio...\n",
       "2    BTS: J-Hope and RM go bonkers at Billie Eilish...\n",
       "3    BTS: J-Hope proudly states he raised Jungkook,...\n",
       "4    BTS: Jin aka Kim Seokjin takes us through the ...\n",
       "..                                                 ...\n",
       "805  BTS’ SUGA’s Suchwita Ep 2 Teaser OUT: Top 3 so...\n",
       "806  BTS ARMY celebrate 700 days of Jin's special s...\n",
       "807  BTS: 'I am not a baby,' says Jungkook as an AR...\n",
       "808  BTS' Jin shares 1st pics after joining militar...\n",
       "809  Bad Decisions: BTS’ Jin, Jimin, V & Jungkook j...\n",
       "\n",
       "[810 rows x 1 columns]"
      ]
     },
     "execution_count": 11,
     "metadata": {},
     "output_type": "execute_result"
    }
   ],
   "source": [
    "df"
   ]
  },
  {
   "cell_type": "code",
   "execution_count": 15,
   "id": "a6fb517e",
   "metadata": {},
   "outputs": [
    {
     "ename": "TypeError",
     "evalue": "'RangeIndex' object is not callable",
     "output_type": "error",
     "traceback": [
      "\u001b[1;31m---------------------------------------------------------------------------\u001b[0m",
      "\u001b[1;31mTypeError\u001b[0m                                 Traceback (most recent call last)",
      "Input \u001b[1;32mIn [15]\u001b[0m, in \u001b[0;36m<cell line: 1>\u001b[1;34m()\u001b[0m\n\u001b[1;32m----> 1\u001b[0m df[\u001b[43mdf\u001b[49m\u001b[38;5;241;43m.\u001b[39;49m\u001b[43mindex\u001b[49m\u001b[43m(\u001b[49m\u001b[38;5;241;43m0\u001b[39;49m\u001b[43m)\u001b[49m]\n",
      "\u001b[1;31mTypeError\u001b[0m: 'RangeIndex' object is not callable"
     ]
    }
   ],
   "source": []
  },
  {
   "cell_type": "code",
   "execution_count": null,
   "id": "83b48ebc",
   "metadata": {},
   "outputs": [],
   "source": []
  }
 ],
 "metadata": {
  "kernelspec": {
   "display_name": "Python 3 (ipykernel)",
   "language": "python",
   "name": "python3"
  },
  "language_info": {
   "codemirror_mode": {
    "name": "ipython",
    "version": 3
   },
   "file_extension": ".py",
   "mimetype": "text/x-python",
   "name": "python",
   "nbconvert_exporter": "python",
   "pygments_lexer": "ipython3",
   "version": "3.10.5"
  }
 },
 "nbformat": 4,
 "nbformat_minor": 5
}
